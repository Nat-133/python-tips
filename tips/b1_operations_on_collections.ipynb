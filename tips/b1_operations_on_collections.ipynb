{
 "cells": [
  {
   "metadata": {},
   "cell_type": "markdown",
   "source": [
    "# Operations on Collections\n",
    "This illustrates common syntax around collections. While in java you would immediately go for methods, in python there is often syntactic sugar to achieve the same effect."
   ],
   "id": "bc8d0fe5abed1935"
  },
  {
   "metadata": {},
   "cell_type": "markdown",
   "source": "### Lists",
   "id": "67ffde1a1db9e5e2"
  },
  {
   "cell_type": "code",
   "id": "initial_id",
   "metadata": {
    "collapsed": true
   },
   "source": [
    "l1 = [1, 2, 3]\n",
    "l2 = [\"a\", \"b\", \"c\"]"
   ],
   "outputs": [],
   "execution_count": null
  },
  {
   "metadata": {},
   "cell_type": "code",
   "source": "1 in l1",
   "id": "23bf23f932256404",
   "outputs": [],
   "execution_count": null
  },
  {
   "metadata": {},
   "cell_type": "code",
   "source": "\"ab\" in l2",
   "id": "74e8d393d423190b",
   "outputs": [],
   "execution_count": null
  },
  {
   "metadata": {},
   "cell_type": "markdown",
   "source": "The use of the `in` keyword is idiomatic in python. Beware that this is implementation dependent, much like the `.contains` method on java collections. It is O(n) on a list and tuple, but O(1) on both sets and dicts.",
   "id": "257a522936c5fdae"
  },
  {
   "metadata": {},
   "cell_type": "markdown",
   "source": "#### Addition",
   "id": "8fa177f9fb444edb"
  },
  {
   "metadata": {},
   "cell_type": "code",
   "source": [
    "l1 = [1, 2, 3]\n",
    "l2 = [\"a\", \"b\", \"c\"]\n",
    "\n",
    "l_combined = l1 + l2\n",
    "print(f\"{l1=}, {l_combined=}\")"
   ],
   "id": "52626c22f11f5647",
   "outputs": [],
   "execution_count": null
  },
  {
   "metadata": {},
   "cell_type": "markdown",
   "source": "Note that addition does not modify the original list, despite lists being mutable objects.",
   "id": "e2fe117e30888001"
  },
  {
   "metadata": {},
   "cell_type": "code",
   "source": [
    "l1 = old_l1 = [1, 2, 3]\n",
    "\n",
    "l1 = l1 + [4]\n",
    "\n",
    "print(f\"{l1=}, {old_l1=}\")"
   ],
   "id": "65da898a6ca89121",
   "outputs": [],
   "execution_count": null
  },
  {
   "metadata": {},
   "cell_type": "code",
   "source": [
    "l1 = old_l1 = [1, 2, 3]\n",
    "\n",
    "l1 += [4]\n",
    "\n",
    "print(f\"{l1=}, {old_l1=}\")"
   ],
   "id": "692c329fcbf9bfab",
   "outputs": [],
   "execution_count": null
  },
  {
   "metadata": {},
   "cell_type": "markdown",
   "source": [
    "The statement `a = a + b` is not equivalent to `a += b` in all cases. The operations are different. `+=` is an *in place* operation, whereas `a = a + b` creates a new object, then overwrites the reference to the old one.\n",
    "\n",
    "Note. This is not the case for all objects. `a += b` will attempt to first call `a.__iadd__(b)`, but will fall back to `a = a.__add__(b)` if `__iadd__` is not defined on a. "
   ],
   "id": "1042d54e221ba398"
  },
  {
   "metadata": {},
   "cell_type": "markdown",
   "source": "#### Indexing and Slicing",
   "id": "ad040d39d8ea5d26"
  },
  {
   "metadata": {},
   "cell_type": "code",
   "source": [
    "l1 = [1, 2, 3]\n",
    "l1[0]"
   ],
   "id": "1a928718b90e1314",
   "outputs": [],
   "execution_count": null
  },
  {
   "metadata": {},
   "cell_type": "code",
   "source": [
    "l1 = [1, 2, 3]\n",
    "l1[-1]"
   ],
   "id": "42348bccbfa24597",
   "outputs": [],
   "execution_count": null
  },
  {
   "metadata": {},
   "cell_type": "code",
   "source": [
    "l1 = [1, 2, 3]\n",
    "l1[-2]"
   ],
   "id": "8ca5f3227d871528",
   "outputs": [],
   "execution_count": null
  },
  {
   "metadata": {},
   "cell_type": "code",
   "source": [
    "start_inclusive = 0\n",
    "end_exclusive = 10\n",
    "step = 2\n",
    "\n",
    "l1 = list(range(10))\n",
    "l2 = l1[start_inclusive:end_exclusive:step]\n",
    "\n",
    "print(f\"{l1=}, {l2=}\")\n",
    "l2[0] = \"h\"\n",
    "print(f\"{l1=}, {l2=}\")"
   ],
   "id": "88c781660836715d",
   "outputs": [],
   "execution_count": null
  },
  {
   "metadata": {},
   "cell_type": "markdown",
   "source": [
    "Generating a new list from another with the above syntax is called *list slicing*. \n",
    "\n",
    "All arguments in list slicing can be omitted, and default to 0, len(list), and 1 respectively.\n",
    "\n",
    "This syntax can be used for interesting applications, a few can be seen below:"
   ],
   "id": "cf884eb946d89c8"
  },
  {
   "metadata": {},
   "cell_type": "code",
   "source": [
    "l1 = [1,2,3,4]\n",
    "l1[::-1]"
   ],
   "id": "acd24b537723a339",
   "outputs": [],
   "execution_count": null
  },
  {
   "metadata": {},
   "cell_type": "code",
   "source": [
    "l1 = [1,2,3,4]\n",
    "l1[1:]"
   ],
   "id": "9a89afe1629d5452",
   "outputs": [],
   "execution_count": null
  },
  {
   "metadata": {},
   "cell_type": "code",
   "source": [
    "l1 = [1,2,3,4]\n",
    "l1[:-2]"
   ],
   "id": "67d652dcd7d75f13",
   "outputs": [],
   "execution_count": null
  },
  {
   "metadata": {},
   "cell_type": "markdown",
   "source": "### Other collection types",
   "id": "6e44306a3ebeeb6b"
  },
  {
   "metadata": {},
   "cell_type": "code",
   "source": [
    "d1 = {1: \"a\", 2: \"b\", 3: \"c\"}\n",
    "print(f\"{1 in d1=}\")\n",
    "print(f\"{\"a\" in d1=}\")"
   ],
   "id": "9267f4af7d870fe3",
   "outputs": [],
   "execution_count": null
  },
  {
   "metadata": {},
   "cell_type": "markdown",
   "source": "In a dict, only the keys can be checked with `in`, as you might expect from a hashmap/table.",
   "id": "a8457fb36867f60d"
  },
  {
   "metadata": {},
   "cell_type": "code",
   "source": [
    "s1 = {1, 2, 3}\n",
    "print(1 in s1)"
   ],
   "id": "420540f02bd9f745",
   "outputs": [],
   "execution_count": null
  },
  {
   "metadata": {},
   "cell_type": "markdown",
   "source": "Sets are similar to dicts, but don't have keys.",
   "id": "71ac756f938d880a"
  },
  {
   "metadata": {},
   "cell_type": "code",
   "source": [
    "s1 = {1, 2, 3}\n",
    "s2 = {3, 4, 5}\n",
    "s1 | s2"
   ],
   "id": "e950d4caab73856b",
   "outputs": [],
   "execution_count": null
  },
  {
   "metadata": {},
   "cell_type": "code",
   "source": [
    "s1 = {1, 2, 3}\n",
    "s2 = {3, 4, 5}\n",
    "s1 - s2"
   ],
   "id": "b205a426f5f34e0b",
   "outputs": [],
   "execution_count": null
  },
  {
   "metadata": {},
   "cell_type": "markdown",
   "source": "For the most part, you can treat tuples as immutable lists:",
   "id": "6eae758058463705"
  },
  {
   "metadata": {},
   "cell_type": "code",
   "source": [
    "t1 = (1, 2, 3)\n",
    "t2 = (\"a\", \"b\", \"c\")\n",
    "\n",
    "print(f\"{t1 + t2}\")\n",
    "print(f\"{t1[1:]}\")\n",
    "print(f\"{\"a\" in t2}\")"
   ],
   "id": "dfa85267e06b6234",
   "outputs": [],
   "execution_count": null
  },
  {
   "metadata": {},
   "cell_type": "code",
   "source": [
    "t1 = old_t1 = (1, 2, 3)\n",
    "t1 += (5,4)\n",
    "print(f\"{t1=}, {old_t1=}\")"
   ],
   "id": "3723c2088629312b",
   "outputs": [],
   "execution_count": null
  },
  {
   "metadata": {},
   "cell_type": "code",
   "source": "",
   "id": "2a467c0fa594d94",
   "outputs": [],
   "execution_count": null
  }
 ],
 "metadata": {
  "kernelspec": {
   "display_name": "Python 3",
   "language": "python",
   "name": "python3"
  },
  "language_info": {
   "codemirror_mode": {
    "name": "ipython",
    "version": 2
   },
   "file_extension": ".py",
   "mimetype": "text/x-python",
   "name": "python",
   "nbconvert_exporter": "python",
   "pygments_lexer": "ipython2",
   "version": "2.7.6"
  }
 },
 "nbformat": 4,
 "nbformat_minor": 5
}
