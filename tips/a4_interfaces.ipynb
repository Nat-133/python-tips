{
 "cells": [
  {
   "cell_type": "markdown",
   "metadata": {},
   "source": [
    "# Interfaces\n",
    "## Abstract Base Classes (or learning your ABCs)"
   ]
  },
  {
   "cell_type": "code",
   "metadata": {},
   "source": [
    "from abc import ABC\n",
    "from abc import abstractmethod\n",
    "\n",
    "\n",
    "class Animal(ABC):\n",
    "    @abstractmethod\n",
    "    def eat(self) -> None:\n",
    "        ..."
   ],
   "outputs": [],
   "execution_count": null
  },
  {
   "cell_type": "code",
   "metadata": {},
   "source": [
    "class Squirrel(Animal):\n",
    "    ...\n",
    "\n",
    "\n",
    "squirrel_a: Squirrel = Squirrel()"
   ],
   "outputs": [],
   "execution_count": null
  },
  {
   "cell_type": "code",
   "metadata": {},
   "source": [
    "class Squirrel(Animal):\n",
    "    def eat(self) -> None:\n",
    "        print(\"squirrel's eatin'\")\n",
    "\n",
    "\n",
    "squirrel_b: Animal = Squirrel()\n",
    "squirrel_b.eat()\n",
    "isinstance(squirrel_b, Animal)"
   ],
   "outputs": [],
   "execution_count": null
  },
  {
   "cell_type": "markdown",
   "metadata": {},
   "source": [
    "Using an abstract base class, implementation is checked when objects are initialized, not when the class is created.\n",
    "\n",
    "Abstract base classes should be used with care. They function similarly to interfaces when all methods are defined with the `@abstractmethod` decorator, but as they rely on inheritance, they come with the same problems if you deviate from this. Additionally, excessive use of them can incur a runtime cost, as each instance of your implementation must also carry around an instance of the base class.\n",
    "\n",
    "Another thing to note is that python supports multiple-inheritance. This means that an implementation can inherit from multiple base-classes. They are not limited in the same way Java and C# abstract classes are."
   ]
  },
  {
   "cell_type": "markdown",
   "metadata": {},
   "source": [
    "## Protocols"
   ]
  },
  {
   "cell_type": "code",
   "metadata": {},
   "source": [
    "from typing import Protocol\n",
    "from typing import Literal\n",
    "\n",
    "\n",
    "Direction = Literal[\"North\", \"East\", \"South\", \"West\"]\n",
    "class Moveable(Protocol):\n",
    "    @abstractmethod\n",
    "    def move(self, direction: Direction) -> bool:\n",
    "        ..."
   ],
   "outputs": [],
   "execution_count": null
  },
  {
   "cell_type": "code",
   "metadata": {},
   "source": [
    "def move_moveables(moveables: list[Moveable], direction: Direction) -> bool:\n",
    "    return all(moveable.move(direction) for moveable in moveables)"
   ],
   "outputs": [],
   "execution_count": null
  },
  {
   "cell_type": "code",
   "metadata": {},
   "source": [
    "#  class Person(Moveable):\n",
    "class Person:\n",
    "    def move(self, direction: Direction) -> bool:\n",
    "        print(f\"moving {direction}\")\n",
    "        return True\n",
    "\n",
    "move_moveables([Person()], \"North\")  # no complaints from type checker\n",
    "move_moveables([1], \"South\")  # complaints from type checker\n"
   ],
   "outputs": [],
   "execution_count": null
  },
  {
   "cell_type": "markdown",
   "metadata": {},
   "source": [
    "Here, we haven't explicitly defined `Person` as an implementation of `Moveable`, but due to *structural subtyping* (also known as duck typing), the `Person` class can still be used as a `Moveable`, and can be statically checked.\n",
    "\n",
    "No runtime checks are performed on any Protocols unless the you do it explicitly, allowing for runtime checking can be done with the `@runtime_checkable` decorator on the protocol.\n",
    "\n",
    "The main downside of Protocols are that it is often difficult to know the intention of a class. Is it supposed to implementing a protocol? Was it just a similar name? What if two protocols define the same method name with very different underlying meanings?\n",
    "\n",
    "Additionally, static typecheckers do not warn you when your class doesn't implement a protocol, the warning instead is `Expected type <Protocol>, got <Your class> instead` on some function call that takes the protocol.\n",
    "\n",
    "To get around this, a class can explicitly inherit the protocol, in which case the protocol functions identically to an abstract baseclass.\n",
    "\n",
    "An interesting application of protocols is that if you define one that has the same signature as a built-in type, you may use that type as the protocol."
   ]
  },
  {
   "cell_type": "code",
   "metadata": {},
   "source": [
    "class IntList(Protocol):\n",
    "    def __getitem__(self, index: int) -> int:\n",
    "        ...\n",
    "    \n",
    "    def append(self, val: int) -> None:\n",
    "        ...\n",
    "\n",
    "def append_1(myList: IntList) -> IntList:\n",
    "    myList.append(1)\n",
    "    return myList\n",
    "\n",
    "\n",
    "append_1([1,2,3,4])  # no complaints from type checker\n",
    "append_1([\"a\", \"b\"])  # complaints from type checker"
   ],
   "outputs": [],
   "execution_count": null
  },
  {
   "cell_type": "markdown",
   "metadata": {},
   "source": [
    "If more rigerous checking is required, you can look into zope interfaces, a Python package that provides interface functionality based around decorators. I have not used it myself, but I believe it's more similar to Java than the approaches described above. It is not part of the standard library, so you'd have to install it via pip."
   ]
  }
 ],
 "metadata": {
  "kernelspec": {
   "display_name": ".venv",
   "language": "python",
   "name": "python3"
  },
  "language_info": {
   "codemirror_mode": {
    "name": "ipython",
    "version": 3
   },
   "file_extension": ".py",
   "mimetype": "text/x-python",
   "name": "python",
   "nbconvert_exporter": "python",
   "pygments_lexer": "ipython3",
   "version": "3.13.1"
  }
 },
 "nbformat": 4,
 "nbformat_minor": 2
}
