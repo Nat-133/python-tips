{
 "cells": [
  {
   "cell_type": "markdown",
   "id": "46c43ea893a4e9db",
   "metadata": {},
   "source": [
    "# Iteration Methods\n",
    "In python, iterators are a core concept, and can often greatly simplify your code if you use them carefully."
   ]
  },
  {
   "cell_type": "code",
   "id": "initial_id",
   "metadata": {
    "collapsed": true
   },
   "source": [
    "l1 = [4, 2, 6, 8]\n",
    "l1"
   ],
   "outputs": [],
   "execution_count": null
  },
  {
   "cell_type": "markdown",
   "id": "a042ae00b264dee6",
   "metadata": {},
   "source": [
    "Try to avoid indexing into a list manually if you don't need to, the same thing can usually be achieved in a far more readable way."
   ]
  },
  {
   "cell_type": "code",
   "id": "9b62f5f2135b2f5f",
   "metadata": {},
   "source": [
    "# bad\n",
    "for i in range(len(l1)):\n",
    "    print(l1[i])"
   ],
   "outputs": [],
   "execution_count": null
  },
  {
   "cell_type": "code",
   "id": "1dc7d82325bb9200",
   "metadata": {},
   "source": [
    "# good\n",
    "for i in l1:\n",
    "    print(i)"
   ],
   "outputs": [],
   "execution_count": null
  },
  {
   "cell_type": "markdown",
   "id": "c7d7fb4379b66f6c",
   "metadata": {},
   "source": [
    "Sometimes, however, you will need both the index and the value for some calculation."
   ]
  },
  {
   "cell_type": "code",
   "id": "80a847ca1e3213ab",
   "metadata": {},
   "source": [
    "# bad\n",
    "for i in range(len(l1)):\n",
    "    v = l1[i]\n",
    "    print(f\"{i=}, {v=}\")"
   ],
   "outputs": [],
   "execution_count": null
  },
  {
   "cell_type": "code",
   "id": "c0770e558278ea1f",
   "metadata": {},
   "source": [
    "# good\n",
    "for i, v in enumerate(l1):\n",
    "    print(f\"{(i, v)=}\")"
   ],
   "outputs": [],
   "execution_count": null
  },
  {
   "cell_type": "markdown",
   "id": "b5a08d1fc0971fb1",
   "metadata": {},
   "source": [
    "A general rule of thumb is:\n",
    "- if you are assigning a variable at the start of every iteration, ask yourself if it can be moved into the iterator.\n",
    "\n",
    "This can be done even with multiple lists:"
   ]
  },
  {
   "cell_type": "code",
   "id": "feada288a00bc462",
   "metadata": {},
   "source": [
    "# bad\n",
    "l1 = [6, 7, 2, 3]\n",
    "l2 = [2, 8, 3]\n",
    "\n",
    "for i in range(min(len(l1), len(l2))):\n",
    "    v1, v2 = l1[i], l2[i]  # notice the variable assignment\n",
    "    print(f\"{v1=}, {v2=}\")"
   ],
   "outputs": [],
   "execution_count": null
  },
  {
   "cell_type": "code",
   "id": "d8220721ff172185",
   "metadata": {},
   "source": [
    "# good\n",
    "l1 = [6, 7, 2, 3]\n",
    "l2 = [2, 8, 3]\n",
    "\n",
    "# use zip instead, no variable assignment in for loop\n",
    "for v1, v2 in zip(l1, l2):\n",
    "    print(f\"{v1=}, {v2=}\")"
   ],
   "outputs": [],
   "execution_count": null
  },
  {
   "cell_type": "code",
   "id": "75d04f15c3a1f961",
   "metadata": {},
   "source": [
    "l1 = [\"a\", \"b\", \"c\", \"d\"]\n",
    "\n",
    "# another use of zip, do something with each pair of adjacent elements\n",
    "for pairs in zip(l1, l1[1:]):\n",
    "    print(f\"{pairs=}\")"
   ],
   "outputs": [],
   "execution_count": null
  },
  {
   "cell_type": "markdown",
   "id": "51dc862be6f78ed",
   "metadata": {},
   "source": [
    "Another code smell in python is frequently building up simple lists in for loops. This can often be overly verbose."
   ]
  },
  {
   "cell_type": "code",
   "id": "e50c9b607e5afeed",
   "metadata": {},
   "source": [
    "# bad\n",
    "in_list = [5, 2, 3, 8]\n",
    "\n",
    "out_list = []\n",
    "for v in in_list:\n",
    "    if v % 2 == 0:\n",
    "        out_list.append(v + 2)\n",
    "out_list"
   ],
   "outputs": [],
   "execution_count": null
  },
  {
   "cell_type": "code",
   "id": "ad6e905ba9db76ec",
   "metadata": {},
   "source": [
    "# good\n",
    "# consider list comprehensions for simple transformations\n",
    "in_list = [5, 2, 3, 8]\n",
    "\n",
    "out_list = [v + 2 for v in in_list if v%2 == 0]\n",
    "out_list"
   ],
   "outputs": [],
   "execution_count": null
  },
  {
   "cell_type": "markdown",
   "id": "9f5f9ebecb0febbb",
   "metadata": {},
   "source": [
    "List comprehensions are computed in advance, and can bloat memory use if you are working with large lists. An alternative to this is to use a generator, which is calculated lazily."
   ]
  },
  {
   "cell_type": "code",
   "id": "f44c477aaed061f7",
   "metadata": {},
   "source": [
    "from sys import getsizeof\n",
    "\n",
    "list_comprehension = [v + 2 for v in range(10) if v % 2 == 0]\n",
    "\n",
    "getsizeof(list_comprehension)"
   ],
   "outputs": [],
   "execution_count": null
  },
  {
   "cell_type": "code",
   "id": "baf11463bfe9be04",
   "metadata": {},
   "source": [
    "from sys import getsizeof\n",
    "\n",
    "list_comprehension = [v + 2 for v in range(1000) if v % 2 == 0]\n",
    "\n",
    "getsizeof(list_comprehension)"
   ],
   "outputs": [],
   "execution_count": null
  },
  {
   "cell_type": "code",
   "id": "a695cb7312f2f84d",
   "metadata": {},
   "source": [
    "from sys import getsizeof\n",
    "\n",
    "small_generator = (v + 2 for v in range(10) if v % 2 == 0)\n",
    "\n",
    "getsizeof(small_generator)"
   ],
   "outputs": [],
   "execution_count": null
  },
  {
   "cell_type": "code",
   "id": "2db9a243b02a40f4",
   "metadata": {},
   "source": [
    "from sys import getsizeof\n",
    "\n",
    "large_generator = (v + 2 for v in range(1000) if v % 2 == 0)\n",
    "\n",
    "getsizeof(large_generator)"
   ],
   "outputs": [],
   "execution_count": null
  },
  {
   "cell_type": "markdown",
   "id": "17108d2cbb8ad9bd",
   "metadata": {},
   "source": [
    "If you are iterating over a set of multi-value elements, but only want one, then by convention, unused variables are named `_`. This is equivalent to java's `ignored`."
   ]
  },
  {
   "cell_type": "code",
   "id": "44fd1b64970be423",
   "metadata": {},
   "source": [
    "headers = [(\"Accept\", \"application/json\"), (\"key\", \"sd1239sn3\")]\n",
    "header_names = [name.lower() for name, _ in headers]\n",
    "header_names"
   ],
   "outputs": [],
   "execution_count": null
  },
  {
   "cell_type": "markdown",
   "id": "23b694653823989f",
   "metadata": {},
   "source": [
    "Recommend looking through itertools to get an idea of what is available\n",
    "\n",
    "https://docs.python.org/3/library/itertools.html\n",
    "\n",
    "There are a lots of niche iterables in it, like product and chain. They aren't used a lot, but when they are, they save a lot of time.\n"
   ]
  }
 ],
 "metadata": {
  "kernelspec": {
   "display_name": ".venv",
   "language": "python",
   "name": "python3"
  },
  "language_info": {
   "codemirror_mode": {
    "name": "ipython",
    "version": 3
   },
   "file_extension": ".py",
   "mimetype": "text/x-python",
   "name": "python",
   "nbconvert_exporter": "python",
   "pygments_lexer": "ipython3",
   "version": "3.13.1"
  }
 },
 "nbformat": 4,
 "nbformat_minor": 5
}
