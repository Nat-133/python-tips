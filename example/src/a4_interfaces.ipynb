{
 "cells": [
  {
   "cell_type": "markdown",
   "metadata": {},
   "source": [
    "# Interfaces\n",
    "## Abstract Base Classes (or learning your ABCs)"
   ]
  },
  {
   "cell_type": "code",
   "metadata": {
    "ExecuteTime": {
     "end_time": "2025-02-06T13:10:36.441081Z",
     "start_time": "2025-02-06T13:10:36.437636Z"
    }
   },
   "source": [
    "from abc import ABC\n",
    "from abc import abstractmethod\n",
    "\n",
    "\n",
    "class Animal(ABC):\n",
    "    @abstractmethod\n",
    "    def eat(self) -> None:\n",
    "        ..."
   ],
   "outputs": [],
   "execution_count": 10
  },
  {
   "cell_type": "code",
   "metadata": {
    "ExecuteTime": {
     "end_time": "2025-02-06T13:10:45.886353Z",
     "start_time": "2025-02-06T13:10:45.872910Z"
    }
   },
   "source": [
    "class Squirrel(Animal):\n",
    "    ...\n",
    "\n",
    "\n",
    "squirrel_a: Squirrel = Squirrel()"
   ],
   "outputs": [
    {
     "ename": "TypeError",
     "evalue": "Can't instantiate abstract class Squirrel without an implementation for abstract method 'eat'",
     "output_type": "error",
     "traceback": [
      "\u001B[0;31m---------------------------------------------------------------------------\u001B[0m",
      "\u001B[0;31mTypeError\u001B[0m                                 Traceback (most recent call last)",
      "Cell \u001B[0;32mIn[11], line 5\u001B[0m\n\u001B[1;32m      1\u001B[0m \u001B[38;5;28;01mclass\u001B[39;00m\u001B[38;5;250m \u001B[39m\u001B[38;5;21;01mSquirrel\u001B[39;00m(Animal):\n\u001B[1;32m      2\u001B[0m     \u001B[38;5;241m.\u001B[39m\u001B[38;5;241m.\u001B[39m\u001B[38;5;241m.\u001B[39m\n\u001B[0;32m----> 5\u001B[0m squirrel_a: Squirrel \u001B[38;5;241m=\u001B[39m \u001B[43mSquirrel\u001B[49m\u001B[43m(\u001B[49m\u001B[43m)\u001B[49m\n",
      "\u001B[0;31mTypeError\u001B[0m: Can't instantiate abstract class Squirrel without an implementation for abstract method 'eat'"
     ]
    }
   ],
   "execution_count": 11
  },
  {
   "cell_type": "code",
   "metadata": {
    "ExecuteTime": {
     "end_time": "2025-02-06T13:11:03.090479Z",
     "start_time": "2025-02-06T13:11:03.084014Z"
    }
   },
   "source": [
    "class Squirrel(Animal):\n",
    "    def eat(self) -> None:\n",
    "        print(\"squirrel's eatin'\")\n",
    "\n",
    "\n",
    "squirrel_b: Animal = Squirrel()\n",
    "squirrel_b.eat()\n",
    "isinstance(squirrel_b, Animal)"
   ],
   "outputs": [
    {
     "name": "stdout",
     "output_type": "stream",
     "text": [
      "squirrel's eatin'\n"
     ]
    },
    {
     "data": {
      "text/plain": [
       "True"
      ]
     },
     "execution_count": 12,
     "metadata": {},
     "output_type": "execute_result"
    }
   ],
   "execution_count": 12
  },
  {
   "cell_type": "markdown",
   "metadata": {},
   "source": [
    "Using an abstract base class, implementation is checked when objects are initialized, not when the class is created.\n",
    "\n",
    "Abstract base classes should be used with care. They function similarly to interfaces when all methods are defined with the `@abstractmethod` decorator, but as they rely on inheritance, they come with the same problems if you deviate from this. Additionally, excessive use of them can incur a runtime cost, as each instance of your implementation must also carry around an instance of the base class.\n",
    "\n",
    "Another thing to note is that python supports multiple-inheritance. This means that an implementation can inherit from multiple base-classes. They are not limited in the same way Java and C# abstract classes are."
   ]
  },
  {
   "cell_type": "markdown",
   "metadata": {},
   "source": [
    "## Protocols"
   ]
  },
  {
   "cell_type": "code",
   "metadata": {
    "ExecuteTime": {
     "end_time": "2025-02-06T13:13:18.252591Z",
     "start_time": "2025-02-06T13:13:18.248386Z"
    }
   },
   "source": [
    "from typing import Protocol\n",
    "from typing import Literal\n",
    "\n",
    "\n",
    "Direction = Literal[\"North\", \"East\", \"South\", \"West\"]\n",
    "class Moveable(Protocol):\n",
    "    @abstractmethod\n",
    "    def move(self, direction: Direction) -> bool:\n",
    "        ..."
   ],
   "outputs": [],
   "execution_count": 13
  },
  {
   "cell_type": "code",
   "metadata": {
    "ExecuteTime": {
     "end_time": "2025-02-06T13:13:33.587499Z",
     "start_time": "2025-02-06T13:13:33.583774Z"
    }
   },
   "source": [
    "def move_moveables(moveables: list[Moveable], direction: Direction) -> bool:\n",
    "    return all(moveable.move(direction) for moveable in moveables)"
   ],
   "outputs": [],
   "execution_count": 14
  },
  {
   "cell_type": "code",
   "metadata": {
    "ExecuteTime": {
     "end_time": "2025-02-06T13:15:20.509190Z",
     "start_time": "2025-02-06T13:15:20.490229Z"
    }
   },
   "source": [
    "class Person:\n",
    "    def move(self, direction: Direction) -> bool:\n",
    "        print(f\"moving {direction}\")\n",
    "        return True\n",
    "\n",
    "move_moveables([Person()], \"North\")\n",
    "move_moveables([1], \"South\")\n"
   ],
   "outputs": [
    {
     "name": "stdout",
     "output_type": "stream",
     "text": [
      "moving North\n"
     ]
    },
    {
     "ename": "AttributeError",
     "evalue": "'int' object has no attribute 'move'",
     "output_type": "error",
     "traceback": [
      "\u001B[0;31m---------------------------------------------------------------------------\u001B[0m",
      "\u001B[0;31mAttributeError\u001B[0m                            Traceback (most recent call last)",
      "Cell \u001B[0;32mIn[15], line 7\u001B[0m\n\u001B[1;32m      4\u001B[0m         \u001B[38;5;28;01mreturn\u001B[39;00m \u001B[38;5;28;01mTrue\u001B[39;00m\n\u001B[1;32m      6\u001B[0m move_moveables([Person()], \u001B[38;5;124m\"\u001B[39m\u001B[38;5;124mNorth\u001B[39m\u001B[38;5;124m\"\u001B[39m)\n\u001B[0;32m----> 7\u001B[0m \u001B[43mmove_moveables\u001B[49m\u001B[43m(\u001B[49m\u001B[43m[\u001B[49m\u001B[38;5;241;43m1\u001B[39;49m\u001B[43m]\u001B[49m\u001B[43m,\u001B[49m\u001B[43m \u001B[49m\u001B[38;5;124;43m\"\u001B[39;49m\u001B[38;5;124;43mSouth\u001B[39;49m\u001B[38;5;124;43m\"\u001B[39;49m\u001B[43m)\u001B[49m\n",
      "Cell \u001B[0;32mIn[14], line 2\u001B[0m, in \u001B[0;36mmove_moveables\u001B[0;34m(moveables, direction)\u001B[0m\n\u001B[1;32m      1\u001B[0m \u001B[38;5;28;01mdef\u001B[39;00m\u001B[38;5;250m \u001B[39m\u001B[38;5;21mmove_moveables\u001B[39m(moveables: \u001B[38;5;28mlist\u001B[39m[Moveable], direction: Direction) \u001B[38;5;241m-\u001B[39m\u001B[38;5;241m>\u001B[39m \u001B[38;5;28mbool\u001B[39m:\n\u001B[0;32m----> 2\u001B[0m     \u001B[38;5;28;01mreturn\u001B[39;00m \u001B[38;5;28;43mall\u001B[39;49m\u001B[43m(\u001B[49m\u001B[43mmoveable\u001B[49m\u001B[38;5;241;43m.\u001B[39;49m\u001B[43mmove\u001B[49m\u001B[43m(\u001B[49m\u001B[43mdirection\u001B[49m\u001B[43m)\u001B[49m\u001B[43m \u001B[49m\u001B[38;5;28;43;01mfor\u001B[39;49;00m\u001B[43m \u001B[49m\u001B[43mmoveable\u001B[49m\u001B[43m \u001B[49m\u001B[38;5;129;43;01min\u001B[39;49;00m\u001B[43m \u001B[49m\u001B[43mmoveables\u001B[49m\u001B[43m)\u001B[49m\n",
      "Cell \u001B[0;32mIn[14], line 2\u001B[0m, in \u001B[0;36m<genexpr>\u001B[0;34m(.0)\u001B[0m\n\u001B[1;32m      1\u001B[0m \u001B[38;5;28;01mdef\u001B[39;00m\u001B[38;5;250m \u001B[39m\u001B[38;5;21mmove_moveables\u001B[39m(moveables: \u001B[38;5;28mlist\u001B[39m[Moveable], direction: Direction) \u001B[38;5;241m-\u001B[39m\u001B[38;5;241m>\u001B[39m \u001B[38;5;28mbool\u001B[39m:\n\u001B[0;32m----> 2\u001B[0m     \u001B[38;5;28;01mreturn\u001B[39;00m \u001B[38;5;28mall\u001B[39m(\u001B[43mmoveable\u001B[49m\u001B[38;5;241;43m.\u001B[39;49m\u001B[43mmove\u001B[49m(direction) \u001B[38;5;28;01mfor\u001B[39;00m moveable \u001B[38;5;129;01min\u001B[39;00m moveables)\n",
      "\u001B[0;31mAttributeError\u001B[0m: 'int' object has no attribute 'move'"
     ]
    }
   ],
   "execution_count": 15
  },
  {
   "cell_type": "markdown",
   "metadata": {},
   "source": [
    "Here, we haven't explicitly defined `Person` as an implementation of `Moveable`, but due to *structural subtyping* (also known as duck typing), the `Person` class can still be used as a `Moveable`, and can be statically checked.\n",
    "\n",
    "No runtime checks are performed on any Protocols unless the you do it explicitly, allowing for runtime checking can be done with the `@runtime_checkable` decorator on the protocol.\n",
    "\n",
    "The main downside of Protocols are that it is often difficult to know the intention of a class. Is it supposed to implementing a protocol? Was it just a similar name? What if two protocols define the same method name with very different underlying meanings?\n",
    "\n",
    "Additionally, static typecheckers do not warn you when your class doesn't implement a protocol, the warning instead is `Expected type <Protocol>, got <Your class> instead` on some function call that takes the protocol.\n",
    "\n",
    "To get around this, a class can explicitly inherit the protocol, in which case the protocol functions identically to an abstract baseclass.\n",
    "\n",
    "An interesting application of protocols is that if you define one that has the same signature as a built-in type, you may use that type as the protocol."
   ]
  },
  {
   "cell_type": "code",
   "metadata": {},
   "source": [
    "class IntList(Protocol):\n",
    "    def __getitem__(self, index: int) -> int:\n",
    "        ...\n",
    "    \n",
    "    def append(self, val: int) -> None:\n",
    "        ...\n",
    "\n",
    "def append_1(myList: IntList) -> IntList:\n",
    "    myList.append(1)\n",
    "    return myList\n",
    "\n",
    "\n",
    "append_1([1,2,3,4])\n",
    "append_1([\"a\", \"b\"])"
   ],
   "outputs": [],
   "execution_count": null
  },
  {
   "cell_type": "markdown",
   "metadata": {},
   "source": [
    "If more rigerous checking is required, you can look into zope interfaces, a Python package that provides interface functionality based around decorators. I have not used it myself, but I believe it's more similar to Java than the approaches described above. It is not part of the standard library, so you'd have to install it via pip."
   ]
  }
 ],
 "metadata": {
  "kernelspec": {
   "display_name": ".venv",
   "language": "python",
   "name": "python3"
  },
  "language_info": {
   "codemirror_mode": {
    "name": "ipython",
    "version": 3
   },
   "file_extension": ".py",
   "mimetype": "text/x-python",
   "name": "python",
   "nbconvert_exporter": "python",
   "pygments_lexer": "ipython3",
   "version": "3.13.1"
  }
 },
 "nbformat": 4,
 "nbformat_minor": 2
}
