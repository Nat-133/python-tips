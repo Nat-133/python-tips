{
 "cells": [
  {
   "metadata": {},
   "cell_type": "markdown",
   "source": [
    "# Operations on Collections\n",
    "This illustrates common syntax around collections. While in java you would immediately go for methods, in python there is often syntactic sugar to achieve the same effect."
   ],
   "id": "bc8d0fe5abed1935"
  },
  {
   "metadata": {},
   "cell_type": "markdown",
   "source": "### Lists",
   "id": "67ffde1a1db9e5e2"
  },
  {
   "cell_type": "code",
   "id": "initial_id",
   "metadata": {
    "collapsed": true,
    "ExecuteTime": {
     "end_time": "2025-02-06T13:17:28.540572Z",
     "start_time": "2025-02-06T13:17:28.537539Z"
    }
   },
   "source": [
    "l1 = [1, 2, 3]\n",
    "l2 = [\"a\", \"b\", \"c\"]"
   ],
   "outputs": [],
   "execution_count": 22
  },
  {
   "metadata": {
    "ExecuteTime": {
     "end_time": "2025-02-06T13:17:32.129386Z",
     "start_time": "2025-02-06T13:17:32.120791Z"
    }
   },
   "cell_type": "code",
   "source": "1 in l1",
   "id": "23bf23f932256404",
   "outputs": [
    {
     "data": {
      "text/plain": [
       "True"
      ]
     },
     "execution_count": 23,
     "metadata": {},
     "output_type": "execute_result"
    }
   ],
   "execution_count": 23
  },
  {
   "metadata": {
    "ExecuteTime": {
     "end_time": "2025-02-06T13:17:37.615874Z",
     "start_time": "2025-02-06T13:17:37.612384Z"
    }
   },
   "cell_type": "code",
   "source": "\"ab\" in l2",
   "id": "74e8d393d423190b",
   "outputs": [
    {
     "data": {
      "text/plain": [
       "False"
      ]
     },
     "execution_count": 24,
     "metadata": {},
     "output_type": "execute_result"
    }
   ],
   "execution_count": 24
  },
  {
   "metadata": {},
   "cell_type": "markdown",
   "source": "The use of the `in` keyword is idiomatic in python. Beware that this is implementation dependent, much like the `.contains` method on java collections. It is O(n) on a list and tuple, but O(1) on both sets and dicts.",
   "id": "257a522936c5fdae"
  },
  {
   "metadata": {},
   "cell_type": "markdown",
   "source": "#### Addition",
   "id": "8fa177f9fb444edb"
  },
  {
   "metadata": {
    "ExecuteTime": {
     "end_time": "2025-02-06T13:18:13.392280Z",
     "start_time": "2025-02-06T13:18:13.388917Z"
    }
   },
   "cell_type": "code",
   "source": [
    "l1 = [1, 2, 3]\n",
    "l2 = [\"a\", \"b\", \"c\"]\n",
    "\n",
    "l_combined = l1 + l2\n",
    "print(f\"{l1=}, {l_combined=}\")"
   ],
   "id": "52626c22f11f5647",
   "outputs": [
    {
     "name": "stdout",
     "output_type": "stream",
     "text": [
      "l1=[1, 2, 3], l_combined=[1, 2, 3, 'a', 'b', 'c']\n"
     ]
    }
   ],
   "execution_count": 25
  },
  {
   "metadata": {},
   "cell_type": "markdown",
   "source": "Note that addition does not modify the original list, despite lists being mutable objects.",
   "id": "e2fe117e30888001"
  },
  {
   "metadata": {
    "ExecuteTime": {
     "end_time": "2025-02-06T13:18:45.567543Z",
     "start_time": "2025-02-06T13:18:45.563979Z"
    }
   },
   "cell_type": "code",
   "source": [
    "l1 = old_l1 = [1, 2, 3]\n",
    "\n",
    "l1 = l1 + [4]\n",
    "\n",
    "print(f\"{l1=}, {old_l1=}\")"
   ],
   "id": "65da898a6ca89121",
   "outputs": [
    {
     "name": "stdout",
     "output_type": "stream",
     "text": [
      "l1=[1, 2, 3, 4], old_l1=[1, 2, 3]\n"
     ]
    }
   ],
   "execution_count": 27
  },
  {
   "metadata": {
    "ExecuteTime": {
     "end_time": "2025-02-06T13:19:00.322572Z",
     "start_time": "2025-02-06T13:19:00.319852Z"
    }
   },
   "cell_type": "code",
   "source": [
    "l1 = old_l1 = [1, 2, 3]\n",
    "\n",
    "l1 += [4]\n",
    "\n",
    "print(f\"{l1=}, {old_l1=}\")"
   ],
   "id": "692c329fcbf9bfab",
   "outputs": [
    {
     "name": "stdout",
     "output_type": "stream",
     "text": [
      "l1=[1, 2, 3, 4], old_l1=[1, 2, 3, 4]\n"
     ]
    }
   ],
   "execution_count": 28
  },
  {
   "metadata": {},
   "cell_type": "markdown",
   "source": [
    "The statement `a = a + b` is not equivalent to `a += b` in all cases. The operations are different. `+=` is an *in place* operation, whereas `a = a + b` creates a new object, then overwrites the reference to the old one.\n",
    "\n",
    "Note. This is not the case for all objects. `a += b` will attempt to first call `a.__iadd__(b)`, but will fall back to `a = a.__add__(b)` if `__iadd__` is not defined on a. "
   ],
   "id": "1042d54e221ba398"
  },
  {
   "metadata": {},
   "cell_type": "markdown",
   "source": "#### Indexing and Slicing",
   "id": "ad040d39d8ea5d26"
  },
  {
   "metadata": {
    "ExecuteTime": {
     "end_time": "2025-02-06T13:20:33.929054Z",
     "start_time": "2025-02-06T13:20:33.925382Z"
    }
   },
   "cell_type": "code",
   "source": [
    "l1 = [1, 2, 3]\n",
    "l1[0]"
   ],
   "id": "1a928718b90e1314",
   "outputs": [
    {
     "data": {
      "text/plain": [
       "1"
      ]
     },
     "execution_count": 30,
     "metadata": {},
     "output_type": "execute_result"
    }
   ],
   "execution_count": 30
  },
  {
   "metadata": {
    "ExecuteTime": {
     "end_time": "2025-02-06T13:20:56.533096Z",
     "start_time": "2025-02-06T13:20:56.525362Z"
    }
   },
   "cell_type": "code",
   "source": [
    "l1 = [1, 2, 3]\n",
    "l1[-1]"
   ],
   "id": "42348bccbfa24597",
   "outputs": [
    {
     "data": {
      "text/plain": [
       "3"
      ]
     },
     "execution_count": 31,
     "metadata": {},
     "output_type": "execute_result"
    }
   ],
   "execution_count": 31
  },
  {
   "metadata": {
    "ExecuteTime": {
     "end_time": "2025-02-06T13:21:08.810474Z",
     "start_time": "2025-02-06T13:21:08.803814Z"
    }
   },
   "cell_type": "code",
   "source": [
    "l1 = [1, 2, 3]\n",
    "l1[-2]"
   ],
   "id": "8ca5f3227d871528",
   "outputs": [
    {
     "data": {
      "text/plain": [
       "2"
      ]
     },
     "execution_count": 32,
     "metadata": {},
     "output_type": "execute_result"
    }
   ],
   "execution_count": 32
  },
  {
   "metadata": {
    "ExecuteTime": {
     "end_time": "2025-02-06T13:22:01.702847Z",
     "start_time": "2025-02-06T13:22:01.699681Z"
    }
   },
   "cell_type": "code",
   "source": [
    "start_inclusive = 0\n",
    "end_exclusive = 10\n",
    "step = 2\n",
    "\n",
    "l1 = list(range(10))\n",
    "l2 = l1[start_inclusive:end_exclusive:step]\n",
    "\n",
    "print(f\"{l1=}, {l2=}\")\n",
    "l2[0] = \"h\"\n",
    "print(f\"{l1=}, {l2=}\")"
   ],
   "id": "88c781660836715d",
   "outputs": [
    {
     "name": "stdout",
     "output_type": "stream",
     "text": [
      "l1=[0, 1, 2, 3, 4, 5, 6, 7, 8, 9], l2=[0, 2, 4, 6, 8]\n",
      "l1=[0, 1, 2, 3, 4, 5, 6, 7, 8, 9], l2=['h', 2, 4, 6, 8]\n"
     ]
    }
   ],
   "execution_count": 34
  },
  {
   "metadata": {},
   "cell_type": "markdown",
   "source": [
    "Generating a new list from another with the above syntax is called *list slicing*. \n",
    "\n",
    "All arguments in list slicing can be omitted, and default to 0, len(list), and 1 respectively.\n",
    "\n",
    "This syntax can be used for interesting applications, a few can be seen below:"
   ],
   "id": "cf884eb946d89c8"
  },
  {
   "metadata": {
    "ExecuteTime": {
     "end_time": "2025-02-06T13:22:10.360112Z",
     "start_time": "2025-02-06T13:22:10.354246Z"
    }
   },
   "cell_type": "code",
   "source": [
    "l1 = [1,2,3,4]\n",
    "l1[::-1]"
   ],
   "id": "acd24b537723a339",
   "outputs": [
    {
     "data": {
      "text/plain": [
       "[4, 3, 2, 1]"
      ]
     },
     "execution_count": 35,
     "metadata": {},
     "output_type": "execute_result"
    }
   ],
   "execution_count": 35
  },
  {
   "metadata": {
    "ExecuteTime": {
     "end_time": "2025-02-06T13:22:22.456616Z",
     "start_time": "2025-02-06T13:22:22.451625Z"
    }
   },
   "cell_type": "code",
   "source": [
    "l1 = [1,2,3,4]\n",
    "l1[1:]"
   ],
   "id": "9a89afe1629d5452",
   "outputs": [
    {
     "data": {
      "text/plain": [
       "[2, 3, 4]"
      ]
     },
     "execution_count": 36,
     "metadata": {},
     "output_type": "execute_result"
    }
   ],
   "execution_count": 36
  },
  {
   "metadata": {
    "ExecuteTime": {
     "end_time": "2025-02-06T13:22:28.805577Z",
     "start_time": "2025-02-06T13:22:28.800100Z"
    }
   },
   "cell_type": "code",
   "source": [
    "l1 = [1,2,3,4]\n",
    "l1[:-2]"
   ],
   "id": "67d652dcd7d75f13",
   "outputs": [
    {
     "data": {
      "text/plain": [
       "[1, 2]"
      ]
     },
     "execution_count": 37,
     "metadata": {},
     "output_type": "execute_result"
    }
   ],
   "execution_count": 37
  },
  {
   "metadata": {},
   "cell_type": "markdown",
   "source": "### Other collection types",
   "id": "6e44306a3ebeeb6b"
  },
  {
   "metadata": {
    "ExecuteTime": {
     "end_time": "2025-02-06T13:22:50.555806Z",
     "start_time": "2025-02-06T13:22:50.552778Z"
    }
   },
   "cell_type": "code",
   "source": [
    "d1 = {1: \"a\", 2: \"b\", 3: \"c\"}\n",
    "print(f\"{1 in d1=}\")\n",
    "print(f\"{\"a\" in d1=}\")"
   ],
   "id": "9267f4af7d870fe3",
   "outputs": [
    {
     "name": "stdout",
     "output_type": "stream",
     "text": [
      "1 in d1=True\n",
      "\"a\" in d1=False\n"
     ]
    }
   ],
   "execution_count": 38
  },
  {
   "metadata": {},
   "cell_type": "markdown",
   "source": "In a dict, only the keys can be checked with `in`, as you might expect from a hashmap/table.",
   "id": "a8457fb36867f60d"
  },
  {
   "metadata": {
    "ExecuteTime": {
     "end_time": "2025-02-06T13:22:58.523943Z",
     "start_time": "2025-02-06T13:22:58.520166Z"
    }
   },
   "cell_type": "code",
   "source": [
    "s1 = {1, 2, 3}\n",
    "print(1 in s1)"
   ],
   "id": "420540f02bd9f745",
   "outputs": [
    {
     "name": "stdout",
     "output_type": "stream",
     "text": [
      "True\n"
     ]
    }
   ],
   "execution_count": 39
  },
  {
   "metadata": {},
   "cell_type": "markdown",
   "source": "Sets are similar to dicts, but don't have keys.",
   "id": "71ac756f938d880a"
  },
  {
   "metadata": {
    "ExecuteTime": {
     "end_time": "2025-02-06T13:23:04.227790Z",
     "start_time": "2025-02-06T13:23:04.224428Z"
    }
   },
   "cell_type": "code",
   "source": [
    "s1 = {1, 2, 3}\n",
    "s2 = {3, 4, 5}\n",
    "s1 | s2"
   ],
   "id": "e950d4caab73856b",
   "outputs": [
    {
     "data": {
      "text/plain": [
       "{1, 2, 3, 4, 5}"
      ]
     },
     "execution_count": 40,
     "metadata": {},
     "output_type": "execute_result"
    }
   ],
   "execution_count": 40
  },
  {
   "metadata": {
    "ExecuteTime": {
     "end_time": "2025-02-06T13:23:05.466734Z",
     "start_time": "2025-02-06T13:23:05.460515Z"
    }
   },
   "cell_type": "code",
   "source": [
    "s1 = {1, 2, 3}\n",
    "s2 = {3, 4, 5}\n",
    "s1 - s2"
   ],
   "id": "b205a426f5f34e0b",
   "outputs": [
    {
     "data": {
      "text/plain": [
       "{1, 2}"
      ]
     },
     "execution_count": 41,
     "metadata": {},
     "output_type": "execute_result"
    }
   ],
   "execution_count": 41
  },
  {
   "metadata": {},
   "cell_type": "markdown",
   "source": "For the most part, you can treat tuples as immutable lists:",
   "id": "6eae758058463705"
  },
  {
   "metadata": {
    "ExecuteTime": {
     "end_time": "2025-02-06T13:23:17.921865Z",
     "start_time": "2025-02-06T13:23:17.916911Z"
    }
   },
   "cell_type": "code",
   "source": [
    "t1 = (1, 2, 3)\n",
    "t2 = (\"a\", \"b\", \"c\")\n",
    "\n",
    "print(f\"{t1 + t2}\")\n",
    "print(f\"{t1[1:]}\")\n",
    "print(f\"{\"a\" in t2}\")"
   ],
   "id": "dfa85267e06b6234",
   "outputs": [
    {
     "name": "stdout",
     "output_type": "stream",
     "text": [
      "(1, 2, 3, 'a', 'b', 'c')\n",
      "(2, 3)\n",
      "True\n"
     ]
    }
   ],
   "execution_count": 42
  },
  {
   "metadata": {
    "ExecuteTime": {
     "end_time": "2025-02-06T13:23:19.137811Z",
     "start_time": "2025-02-06T13:23:19.131321Z"
    }
   },
   "cell_type": "code",
   "source": [
    "t1 = old_t1 = (1, 2, 3)\n",
    "t1 += (5,4)\n",
    "print(f\"{t1=}, {old_t1=}\")"
   ],
   "id": "3723c2088629312b",
   "outputs": [
    {
     "name": "stdout",
     "output_type": "stream",
     "text": [
      "t1=(1, 2, 3, 5, 4), old_t1=(1, 2, 3)\n"
     ]
    }
   ],
   "execution_count": 43
  },
  {
   "metadata": {},
   "cell_type": "code",
   "source": "",
   "id": "2a467c0fa594d94",
   "outputs": [],
   "execution_count": null
  }
 ],
 "metadata": {
  "kernelspec": {
   "display_name": "Python 3",
   "language": "python",
   "name": "python3"
  },
  "language_info": {
   "codemirror_mode": {
    "name": "ipython",
    "version": 2
   },
   "file_extension": ".py",
   "mimetype": "text/x-python",
   "name": "python",
   "nbconvert_exporter": "python",
   "pygments_lexer": "ipython2",
   "version": "2.7.6"
  }
 },
 "nbformat": 4,
 "nbformat_minor": 5
}
