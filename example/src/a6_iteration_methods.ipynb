{
 "cells": [
  {
   "cell_type": "markdown",
   "id": "46c43ea893a4e9db",
   "metadata": {},
   "source": [
    "# Iteration Methods\n",
    "In python, iterators are a core concept, and can often greatly simplify your code if you use them carefully."
   ]
  },
  {
   "cell_type": "code",
   "id": "initial_id",
   "metadata": {
    "collapsed": true,
    "ExecuteTime": {
     "end_time": "2025-02-06T13:23:47.118574Z",
     "start_time": "2025-02-06T13:23:47.115634Z"
    }
   },
   "source": [
    "l1 = [4, 2, 6, 8]\n",
    "l1"
   ],
   "outputs": [
    {
     "data": {
      "text/plain": [
       "[4, 2, 6, 8]"
      ]
     },
     "execution_count": 17,
     "metadata": {},
     "output_type": "execute_result"
    }
   ],
   "execution_count": 17
  },
  {
   "cell_type": "markdown",
   "id": "a042ae00b264dee6",
   "metadata": {},
   "source": [
    "Try to avoid indexing into a list manually if you don't need to, the same thing can usually be achieved in a far more readable way."
   ]
  },
  {
   "cell_type": "code",
   "id": "9b62f5f2135b2f5f",
   "metadata": {
    "ExecuteTime": {
     "end_time": "2025-02-06T13:23:54.328747Z",
     "start_time": "2025-02-06T13:23:54.323822Z"
    }
   },
   "source": [
    "# bad\n",
    "for i in range(len(l1)):\n",
    "    print(l1[i])"
   ],
   "outputs": [
    {
     "name": "stdout",
     "output_type": "stream",
     "text": [
      "4\n",
      "2\n",
      "6\n",
      "8\n"
     ]
    }
   ],
   "execution_count": 18
  },
  {
   "cell_type": "code",
   "id": "1dc7d82325bb9200",
   "metadata": {
    "ExecuteTime": {
     "end_time": "2025-02-06T13:23:59.202364Z",
     "start_time": "2025-02-06T13:23:59.197368Z"
    }
   },
   "source": [
    "# good\n",
    "for i in l1:\n",
    "    print(i)"
   ],
   "outputs": [
    {
     "name": "stdout",
     "output_type": "stream",
     "text": [
      "4\n",
      "2\n",
      "6\n",
      "8\n"
     ]
    }
   ],
   "execution_count": 19
  },
  {
   "cell_type": "markdown",
   "id": "c7d7fb4379b66f6c",
   "metadata": {},
   "source": [
    "Sometimes, however, you will need both the index and the value for some calculation."
   ]
  },
  {
   "cell_type": "code",
   "id": "80a847ca1e3213ab",
   "metadata": {
    "ExecuteTime": {
     "end_time": "2025-02-06T13:25:18.548378Z",
     "start_time": "2025-02-06T13:25:18.545911Z"
    }
   },
   "source": [
    "# bad\n",
    "for i in range(len(l1)):\n",
    "    v = l1[i]\n",
    "    print(f\"{i=}, {v=}\")"
   ],
   "outputs": [
    {
     "name": "stdout",
     "output_type": "stream",
     "text": [
      "i=0, v=4\n",
      "i=1, v=2\n",
      "i=2, v=6\n",
      "i=3, v=8\n"
     ]
    }
   ],
   "execution_count": 22
  },
  {
   "cell_type": "code",
   "id": "c0770e558278ea1f",
   "metadata": {
    "ExecuteTime": {
     "end_time": "2025-02-06T13:25:18.913843Z",
     "start_time": "2025-02-06T13:25:18.911369Z"
    }
   },
   "source": [
    "# good\n",
    "for i, v in enumerate(l1):\n",
    "    print(f\"{(i, v)=}\")"
   ],
   "outputs": [
    {
     "name": "stdout",
     "output_type": "stream",
     "text": [
      "(i, v)=(0, 4)\n",
      "(i, v)=(1, 2)\n",
      "(i, v)=(2, 6)\n",
      "(i, v)=(3, 8)\n"
     ]
    }
   ],
   "execution_count": 23
  },
  {
   "cell_type": "markdown",
   "id": "b5a08d1fc0971fb1",
   "metadata": {},
   "source": [
    "A general rule of thumb is:\n",
    "- if you are assigning a variable at the start of every iteration, ask yourself if it can be moved into the iterator.\n",
    "\n",
    "This can be done even with multiple lists:"
   ]
  },
  {
   "cell_type": "code",
   "id": "feada288a00bc462",
   "metadata": {
    "ExecuteTime": {
     "end_time": "2025-02-06T13:25:37.139907Z",
     "start_time": "2025-02-06T13:25:37.134373Z"
    }
   },
   "source": [
    "# bad\n",
    "l1 = [6, 7, 2, 3]\n",
    "l2 = [2, 8, 3]\n",
    "\n",
    "for i in range(min(len(l1), len(l2))):\n",
    "    v1, v2 = l1[i], l2[i]  # notice the variable assignment\n",
    "    print(f\"{v1=}, {v2=}\")"
   ],
   "outputs": [
    {
     "name": "stdout",
     "output_type": "stream",
     "text": [
      "v1=6, v2=2\n",
      "v1=7, v2=8\n",
      "v1=2, v2=3\n"
     ]
    }
   ],
   "execution_count": 24
  },
  {
   "cell_type": "code",
   "id": "d8220721ff172185",
   "metadata": {
    "ExecuteTime": {
     "end_time": "2025-02-06T13:25:48.155295Z",
     "start_time": "2025-02-06T13:25:48.147921Z"
    }
   },
   "source": [
    "# good\n",
    "l1 = [6, 7, 2, 3]\n",
    "l2 = [2, 8, 3]\n",
    "\n",
    "# use zip instead, no variable assignment in for loop\n",
    "for v1, v2 in zip(l1, l2):\n",
    "    print(f\"{v1=}, {v2=}\")"
   ],
   "outputs": [
    {
     "name": "stdout",
     "output_type": "stream",
     "text": [
      "v1=6, v2=2\n",
      "v1=7, v2=8\n",
      "v1=2, v2=3\n"
     ]
    }
   ],
   "execution_count": 25
  },
  {
   "cell_type": "code",
   "id": "75d04f15c3a1f961",
   "metadata": {
    "ExecuteTime": {
     "end_time": "2025-02-06T13:26:05.497312Z",
     "start_time": "2025-02-06T13:26:05.489935Z"
    }
   },
   "source": [
    "l1 = [\"a\", \"b\", \"c\", \"d\"]\n",
    "\n",
    "# another use of zip, do something with each pair of adjacent elements\n",
    "for pairs in zip(l1, l1[1:]):\n",
    "    print(f\"{pairs=}\")"
   ],
   "outputs": [
    {
     "name": "stdout",
     "output_type": "stream",
     "text": [
      "pairs=('a', 'b')\n",
      "pairs=('b', 'c')\n",
      "pairs=('c', 'd')\n"
     ]
    }
   ],
   "execution_count": 26
  },
  {
   "cell_type": "markdown",
   "id": "51dc862be6f78ed",
   "metadata": {},
   "source": [
    "Another code smell in python is frequently building up simple lists in for loops. This can often be overly verbose."
   ]
  },
  {
   "cell_type": "code",
   "id": "e50c9b607e5afeed",
   "metadata": {
    "ExecuteTime": {
     "end_time": "2025-02-06T13:26:31.128552Z",
     "start_time": "2025-02-06T13:26:31.123116Z"
    }
   },
   "source": [
    "# bad\n",
    "in_list = [5, 2, 3, 8]\n",
    "\n",
    "out_list = []\n",
    "for v in in_list:\n",
    "    if v % 2 == 0:\n",
    "        out_list.append(v + 2)\n",
    "out_list"
   ],
   "outputs": [
    {
     "data": {
      "text/plain": [
       "[4, 10]"
      ]
     },
     "execution_count": 27,
     "metadata": {},
     "output_type": "execute_result"
    }
   ],
   "execution_count": 27
  },
  {
   "cell_type": "code",
   "id": "ad6e905ba9db76ec",
   "metadata": {
    "ExecuteTime": {
     "end_time": "2025-02-06T13:26:48.070494Z",
     "start_time": "2025-02-06T13:26:48.064449Z"
    }
   },
   "source": [
    "# good\n",
    "# consider list comprehensions for simple transformations\n",
    "in_list = [5, 2, 3, 8]\n",
    "\n",
    "out_list = [v + 2 for v in in_list if v%2 == 0]\n",
    "out_list"
   ],
   "outputs": [
    {
     "data": {
      "text/plain": [
       "[4, 10]"
      ]
     },
     "execution_count": 28,
     "metadata": {},
     "output_type": "execute_result"
    }
   ],
   "execution_count": 28
  },
  {
   "cell_type": "markdown",
   "id": "9f5f9ebecb0febbb",
   "metadata": {},
   "source": [
    "List comprehensions are computed in advance, and can bloat memory use if you are working with large lists. An alternative to this is to use a generator, which is calculated lazily."
   ]
  },
  {
   "cell_type": "code",
   "id": "f44c477aaed061f7",
   "metadata": {
    "ExecuteTime": {
     "end_time": "2025-02-06T13:27:55.280477Z",
     "start_time": "2025-02-06T13:27:55.274598Z"
    }
   },
   "source": [
    "from sys import getsizeof\n",
    "\n",
    "list_comprehension = [v + 2 for v in range(10) if v % 2 == 0]\n",
    "\n",
    "getsizeof(list_comprehension)"
   ],
   "outputs": [
    {
     "data": {
      "text/plain": [
       "120"
      ]
     },
     "execution_count": 29,
     "metadata": {},
     "output_type": "execute_result"
    }
   ],
   "execution_count": 29
  },
  {
   "cell_type": "code",
   "id": "baf11463bfe9be04",
   "metadata": {
    "ExecuteTime": {
     "end_time": "2025-02-06T13:28:01.608476Z",
     "start_time": "2025-02-06T13:28:01.601734Z"
    }
   },
   "source": [
    "from sys import getsizeof\n",
    "\n",
    "list_comprehension = [v + 2 for v in range(1000) if v % 2 == 0]\n",
    "\n",
    "getsizeof(list_comprehension)"
   ],
   "outputs": [
    {
     "data": {
      "text/plain": [
       "4216"
      ]
     },
     "execution_count": 30,
     "metadata": {},
     "output_type": "execute_result"
    }
   ],
   "execution_count": 30
  },
  {
   "cell_type": "code",
   "id": "a695cb7312f2f84d",
   "metadata": {
    "ExecuteTime": {
     "end_time": "2025-02-06T13:28:21.448050Z",
     "start_time": "2025-02-06T13:28:21.440881Z"
    }
   },
   "source": [
    "from sys import getsizeof\n",
    "\n",
    "small_generator = (v + 2 for v in range(10) if v % 2 == 0)\n",
    "\n",
    "getsizeof(small_generator)"
   ],
   "outputs": [
    {
     "data": {
      "text/plain": [
       "200"
      ]
     },
     "execution_count": 31,
     "metadata": {},
     "output_type": "execute_result"
    }
   ],
   "execution_count": 31
  },
  {
   "cell_type": "code",
   "id": "2db9a243b02a40f4",
   "metadata": {
    "ExecuteTime": {
     "end_time": "2025-02-06T13:28:24.629152Z",
     "start_time": "2025-02-06T13:28:24.621919Z"
    }
   },
   "source": [
    "from sys import getsizeof\n",
    "\n",
    "large_generator = (v + 2 for v in range(1000) if v % 2 == 0)\n",
    "\n",
    "getsizeof(large_generator)"
   ],
   "outputs": [
    {
     "data": {
      "text/plain": [
       "200"
      ]
     },
     "execution_count": 32,
     "metadata": {},
     "output_type": "execute_result"
    }
   ],
   "execution_count": 32
  },
  {
   "cell_type": "markdown",
   "id": "17108d2cbb8ad9bd",
   "metadata": {},
   "source": [
    "If you are iterating over a set of multi-value elements, but only want one, then by convention, unused variables are named `_`. This is equivalent to java's `ignored`."
   ]
  },
  {
   "cell_type": "code",
   "id": "44fd1b64970be423",
   "metadata": {
    "ExecuteTime": {
     "end_time": "2025-02-06T13:29:19.718287Z",
     "start_time": "2025-02-06T13:29:19.713166Z"
    }
   },
   "source": [
    "headers = [(\"Accept\", \"application/json\"), (\"key\", \"sd1239sn3\")]\n",
    "header_names = [name.lower() for name, _ in headers]\n",
    "header_names"
   ],
   "outputs": [
    {
     "data": {
      "text/plain": [
       "['accept', 'key']"
      ]
     },
     "execution_count": 33,
     "metadata": {},
     "output_type": "execute_result"
    }
   ],
   "execution_count": 33
  },
  {
   "cell_type": "markdown",
   "id": "23b694653823989f",
   "metadata": {},
   "source": [
    "Recommend looking through itertools to get an idea of what is available\n",
    "\n",
    "https://docs.python.org/3/library/itertools.html\n",
    "\n",
    "There are a lots of niche iterables in it, like product and chain. They aren't used a lot, but when they are, they save a lot of time.\n"
   ]
  }
 ],
 "metadata": {
  "kernelspec": {
   "display_name": ".venv",
   "language": "python",
   "name": "python3"
  },
  "language_info": {
   "codemirror_mode": {
    "name": "ipython",
    "version": 3
   },
   "file_extension": ".py",
   "mimetype": "text/x-python",
   "name": "python",
   "nbconvert_exporter": "python",
   "pygments_lexer": "ipython3",
   "version": "3.13.1"
  }
 },
 "nbformat": 4,
 "nbformat_minor": 5
}
