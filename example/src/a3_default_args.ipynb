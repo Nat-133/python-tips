{
 "cells": [
  {
   "cell_type": "markdown",
   "id": "69820c06aa56f231",
   "metadata": {},
   "source": [
    "# Default Args\n",
    "This allows you to have optional arguments in functions. You can refer to them by order, or explicitly by name. e.g."
   ]
  },
  {
   "metadata": {},
   "cell_type": "code",
   "source": [
    "def foo(a: int = 1, b: int = 0, c: str = \"default\") -> str:\n",
    "    return f\"{a=} {b=} {c=}\"\n",
    "\n",
    "print(foo())\n",
    "print(foo(1,2))\n",
    "print(foo(a=2, c=\"something\"))"
   ],
   "id": "995674c3d4e387d1",
   "outputs": [],
   "execution_count": null
  },
  {
   "metadata": {},
   "cell_type": "markdown",
   "source": "Python default arguments for function parameters usually behave as expected, but there are some quirks that it's important to consider.",
   "id": "9ba503b90fff3a3c"
  },
  {
   "cell_type": "code",
   "id": "b75b1862bfc5b483",
   "metadata": {},
   "source": [
    "from dataclasses import dataclass"
   ],
   "outputs": [],
   "execution_count": null
  },
  {
   "cell_type": "code",
   "id": "initial_id",
   "metadata": {
    "collapsed": true
   },
   "source": [
    "@dataclass\n",
    "class Person:\n",
    "    name: str\n",
    "    age: int"
   ],
   "outputs": [],
   "execution_count": null
  },
  {
   "cell_type": "markdown",
   "id": "aae96d65822769e5",
   "metadata": {},
   "source": [
    "Below is a simple function that should either return a new person with age zero, or increment a person's age.   "
   ]
  },
  {
   "cell_type": "code",
   "id": "92d053faa589fb3b",
   "metadata": {},
   "source": [
    "def have_birthday(person: Person = Person(\"John Doe\", -1)):\n",
    "    person.age = person.age + 1\n",
    "    return person\n",
    "\n",
    "have_birthday(Person(\"Bob\", 24))"
   ],
   "outputs": [],
   "execution_count": null
  },
  {
   "cell_type": "markdown",
   "id": "66e7f801275f77f6",
   "metadata": {},
   "source": [
    "Before running the code below, try and guess the expected output:"
   ]
  },
  {
   "cell_type": "code",
   "id": "7dc884fc90a052ef",
   "metadata": {},
   "source": [
    "person_1 = have_birthday()\n",
    "person_1"
   ],
   "outputs": [],
   "execution_count": null
  },
  {
   "cell_type": "markdown",
   "id": "4c84c31585bb5112",
   "metadata": {},
   "source": [
    "What would you expect the result of the next code snippet to be?"
   ]
  },
  {
   "cell_type": "code",
   "id": "fddcf95e35f286d8",
   "metadata": {},
   "source": [
    "person_2 = have_birthday()\n",
    "person_2"
   ],
   "outputs": [],
   "execution_count": null
  },
  {
   "cell_type": "code",
   "id": "1ca440378091e54",
   "metadata": {},
   "source": [
    "person_1"
   ],
   "outputs": [],
   "execution_count": null
  },
  {
   "cell_type": "markdown",
   "id": "e34b38bb4d6134f2",
   "metadata": {},
   "source": [
    "This result is not intuitive, but is a result of how default arguments behave. The result is only calculated once (when the function is defined), and is then assigned to the argument value each time the function is called.\n",
    "\n",
    "Because of this, **mutable types should NEVER be used as default values**.\n",
    "\n",
    "Even if you are sure the value will never be mutated, it is bad practice to use them. The opportunity for error is quite high.\n",
    "\n",
    "\n",
    "A simple way to avoid this can be seen below:"
   ]
  },
  {
   "cell_type": "code",
   "id": "3d0412a177e800d1",
   "metadata": {},
   "source": [
    "def have_birthday(person: Person = None):\n",
    "    person = person if person else Person(\"John Doe\", -1)\n",
    "        \n",
    "    person.age = person.age + 1\n",
    "    return person\n",
    "\n",
    "have_birthday() is have_birthday()"
   ],
   "outputs": [],
   "execution_count": null
  },
  {
   "cell_type": "markdown",
   "id": "2554c765ea6c5e74",
   "metadata": {},
   "source": [
    "By assigning a default None, you avoid the pitfalls of reusing the same object and explicitly create a new one in the function body.\n",
    "\n",
    "A better solution would be to avoid something like this all-together, but the practicalities of real engineering can get in the way."
   ]
  }
 ],
 "metadata": {
  "kernelspec": {
   "display_name": ".venv",
   "language": "python",
   "name": "python3"
  },
  "language_info": {
   "codemirror_mode": {
    "name": "ipython",
    "version": 3
   },
   "file_extension": ".py",
   "mimetype": "text/x-python",
   "name": "python",
   "nbconvert_exporter": "python",
   "pygments_lexer": "ipython3",
   "version": "3.13.1"
  }
 },
 "nbformat": 4,
 "nbformat_minor": 5
}
